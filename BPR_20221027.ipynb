{
  "nbformat": 4,
  "nbformat_minor": 0,
  "metadata": {
    "colab": {
      "provenance": [],
      "collapsed_sections": [],
      "authorship_tag": "ABX9TyM3kCXJ8UrEmjFVV/cYp/19",
      "include_colab_link": true
    },
    "kernelspec": {
      "name": "python3",
      "display_name": "Python 3"
    },
    "language_info": {
      "name": "python"
    }
  },
  "cells": [
    {
      "cell_type": "markdown",
      "metadata": {
        "id": "view-in-github",
        "colab_type": "text"
      },
      "source": [
        "<a href=\"https://colab.research.google.com/github/samohtwal/BPR/blob/20221027/BPR_20221027.ipynb\" target=\"_parent\"><img src=\"https://colab.research.google.com/assets/colab-badge.svg\" alt=\"Open In Colab\"/></a>"
      ]
    },
    {
      "cell_type": "code",
      "execution_count": 17,
      "metadata": {
        "id": "DlMU8KS9ssVR"
      },
      "outputs": [],
      "source": [
        "import numpy as np\n",
        "import pandas as pd\n",
        "import torch\n",
        "import copy\n",
        "from itertools import islice\n",
        "\n",
        "global raw_data_user_column_name\n",
        "global raw_data_item_column_name\n",
        "global raw_data_group_by_user_id_dictionary_key\n",
        "global raw_data_group_by_item_id_dictionary_key\n",
        "\n",
        "global random_seed\n",
        "\n",
        "global n_latent_factor\n",
        "\n",
        "raw_data_user_column_name = 'user_id'\n",
        "raw_data_item_column_name = 'item_id'\n",
        "raw_data_group_by_user_id_dictionary_key = 'raw_data_group_by_user_id'\n",
        "raw_data_group_by_item_id_dictionary_key = 'raw_data_group_by_item_id'\n",
        "\n",
        "random_seed = 1234\n",
        "\n",
        "n_latent_factor = 15"
      ]
    },
    {
      "cell_type": "code",
      "source": [
        "# load data\n",
        "raw_data_url = 'https://raw.githubusercontent.com/samohtwal/BPR/main/data/vali-20221026.csv'\n",
        "column_names = [raw_data_user_column_name, raw_data_item_column_name]\n",
        "raw_data = pd.read_csv(raw_data_url, names = column_names, header=0)\n",
        "\n",
        "raw_data_group_by_user_id = raw_data.groupby(raw_data_user_column_name)[raw_data_item_column_name].apply(list).reset_index(name=raw_data_item_column_name).sort_values(by=[raw_data_user_column_name])\n",
        "raw_data_group_by_item_id = raw_data.groupby(raw_data_item_column_name)[raw_data_user_column_name].apply(list).reset_index(name=raw_data_user_column_name).sort_values(by=[raw_data_item_column_name])\n",
        "\n",
        "raw_data_dictionary = {\n",
        "    raw_data_group_by_user_id_dictionary_key: raw_data_group_by_user_id, \n",
        "    raw_data_group_by_item_id_dictionary_key: raw_data_group_by_item_id\n",
        "}\n",
        "\n",
        "# print('debug - raw_data_group_by_user_id:\\n', raw_data_dictionary.get('raw_data_group_by_user_id'))\n",
        "# print('debug - raw_data_group_by_item_id:\\n', raw_data_dictionary.get('raw_data_group_by_item_id'))\n"
      ],
      "metadata": {
        "id": "9KL8QzyO6yj1"
      },
      "execution_count": 18,
      "outputs": []
    },
    {
      "cell_type": "code",
      "source": [
        "def train(raw_data_group_by_user_id, raw_data_group_by_item_id):\n",
        "\n",
        "    n_user = len(raw_data_dictionary.get(raw_data_group_by_user_id_dictionary_key)[raw_data_user_column_name])\n",
        "    n_item = len(raw_data_dictionary.get(raw_data_group_by_item_id_dictionary_key)[raw_data_item_column_name])\n",
        "\n",
        "    rstate = np.random.RandomState(random_seed)\n",
        "\n",
        "    user_latent_factor_matrix = rstate.normal(size = (n_user, n_latent_factor))\n",
        "    item_latent_factor_matrix = rstate.normal(size = (n_item, n_latent_factor))\n",
        "\n",
        "    return user_latent_factor_matrix, item_latent_factor_matrix\n",
        "\n",
        "def _create_sample_lantent_factor_matrix_row_indexes():\n",
        "    return 0\n",
        "\n",
        "def _update_sample_lantent_factor_matrix_rows():\n",
        "    return 0\n",
        "\n",
        "def predict(user_latent_factor_matrix, item_latent_factor_matrix):\n",
        "    return user_latent_factor_matrix.dot(item_latent_factor_matrix.T)\n",
        "\n",
        "def _predict_user(user_latent_factor_matrix, item_latent_factor_matrix, user_index):\n",
        "    return user_latent_factor_matrix[user_index].dot(item_latent_factor_matrix.T)"
      ],
      "metadata": {
        "id": "_Jyhyc-u8jAE"
      },
      "execution_count": 21,
      "outputs": []
    }
  ]
}