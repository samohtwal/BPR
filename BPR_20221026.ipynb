{
  "nbformat": 4,
  "nbformat_minor": 0,
  "metadata": {
    "colab": {
      "provenance": [],
      "collapsed_sections": [],
      "authorship_tag": "ABX9TyMoHdJeJmrlcKQw5Zuh6Al1",
      "include_colab_link": true
    },
    "kernelspec": {
      "name": "python3",
      "display_name": "Python 3"
    },
    "language_info": {
      "name": "python"
    }
  },
  "cells": [
    {
      "cell_type": "markdown",
      "metadata": {
        "id": "view-in-github",
        "colab_type": "text"
      },
      "source": [
        "<a href=\"https://colab.research.google.com/github/samohtwal/BPR/blob/20221026/BPR_20221026.ipynb\" target=\"_parent\"><img src=\"https://colab.research.google.com/assets/colab-badge.svg\" alt=\"Open In Colab\"/></a>"
      ]
    },
    {
      "cell_type": "code",
      "execution_count": 2,
      "metadata": {
        "id": "d9BS6i_5_ugB"
      },
      "outputs": [],
      "source": [
        "import numpy as np\n",
        "import pandas as pd\n",
        "import torch\n",
        "import copy\n",
        "from itertools import islice\n",
        "\n",
        "from google.colab import files\n",
        "\n",
        "from scipy.sparse import csr_matrix, dok_matrix"
      ]
    },
    {
      "cell_type": "code",
      "source": [
        "# load data\n",
        "raw_data_url = 'https://raw.githubusercontent.com/samohtwal/BPR/main/data/vali-20221026.csv'\n",
        "user_column_name = 'user_id'\n",
        "item_column_name = 'item_id'\n",
        "column_names = [user_column_name, item_column_name]\n",
        "raw_data = pd.read_csv(raw_data_url, names = column_names, header=0)\n",
        "\n",
        "print('raw_data dimension:', raw_data.shape)\n",
        "print('raw_data head: \\n', raw_data.head())\n",
        "print('raw_data.iloc[0][user_column_name]:', raw_data.iloc[0][user_column_name])\n",
        "print('raw_data.iloc[0][item_column_name]:', raw_data.iloc[0][item_column_name])\n",
        "print('raw_data.iloc[25054][user_column_name]:', raw_data.iloc[25054][user_column_name])\n",
        "print('raw_data.iloc[25054][item_column_name]:', raw_data.iloc[25054][item_column_name])\n",
        "\n",
        "structured_data = raw_data.groupby(user_column_name)[item_column_name].apply(list).reset_index(name=item_column_name).sort_values(by=[user_column_name])\n",
        "print(structured_data)\n",
        "print(structured_data.iloc[0][user_column_name])\n",
        "print(structured_data.iloc[0][item_column_name])\n",
        "\n",
        "user_ids = sorted(raw_data[user_column_name].unique())\n",
        "item_ids = sorted(raw_data[item_column_name].unique())\n",
        "\n",
        "print(len(user_ids))\n",
        "print(len(item_ids))"
      ],
      "metadata": {
        "colab": {
          "base_uri": "https://localhost:8080/"
        },
        "id": "ngHLZQQGA4_q",
        "outputId": "c4d05687-9799-443f-e07d-261d8de8d55f"
      },
      "execution_count": 30,
      "outputs": [
        {
          "output_type": "stream",
          "name": "stdout",
          "text": [
            "raw_data dimension: (25055, 2)\n",
            "raw_data head: \n",
            "    user_id  item_id\n",
            "0        6        0\n",
            "1        7        0\n",
            "2        9        0\n",
            "3       15        1\n",
            "4       28        2\n",
            "raw_data.iloc[0][user_column_name]: 6\n",
            "raw_data.iloc[0][item_column_name]: 0\n",
            "raw_data.iloc[25054][user_column_name]: 2148\n",
            "raw_data.iloc[25054][item_column_name]: 3057\n",
            "      user_id                                            item_id\n",
            "0           0                             [128, 319, 2352, 2688]\n",
            "1           1  [109, 985, 1201, 1294, 1324, 1345, 1427, 1664,...\n",
            "2           2                                             [2633]\n",
            "3           3  [142, 150, 237, 252, 320, 333, 461, 477, 479, ...\n",
            "4           4                                             [1779]\n",
            "...       ...                                                ...\n",
            "3859     3919                                       [1883, 2002]\n",
            "3860     3920                                 [1805, 1845, 1907]\n",
            "3861     3921                                       [1884, 2135]\n",
            "3862     3922                                 [1803, 1885, 1926]\n",
            "3863     3923               [1983, 2201, 2214, 2314, 2413, 2489]\n",
            "\n",
            "[3864 rows x 2 columns]\n",
            "0\n",
            "[128, 319, 2352, 2688]\n",
            "3864\n",
            "2997\n"
          ]
        }
      ]
    },
    {
      "cell_type": "code",
      "source": [
        "def create_user_item_rating_matrix(raw_data, user_column_name, item_column_name):\n",
        "\n",
        "    user_ids = sorted(raw_data[user_column_name].unique())\n",
        "    n_user = len(user_ids)\n",
        "\n",
        "    item_ids = sorted(raw_data[item_column_name].unique())\n",
        "    n_item = len(item_ids)\n",
        "\n",
        "    user_item_rating_matrix = np.zeros((n_user, n_item), dtype = np.int32)\n",
        "\n",
        "    n_raw_data = raw_data.shape[0]-1\n",
        "    for x in range(n_raw_data):\n",
        "        user_item_rating_matrix[user_ids.index(raw_data.iloc[x][user_column_name]), item_ids.index(raw_data.iloc[x][item_column_name])] = 1\n",
        "\n",
        "    return user_item_rating_matrix, user_ids, item_ids"
      ],
      "metadata": {
        "id": "_LnBv9VVCMTf"
      },
      "execution_count": 24,
      "outputs": []
    },
    {
      "cell_type": "code",
      "source": [
        "user_item_rating_matrix, user_ids, item_ids = create_user_item_rating_matrix(raw_data, user_column_name, item_column_name)\n",
        "print('user_item_rating_matrix:\\n', user_item_rating_matrix)\n",
        "\n",
        "'''\n",
        "df = pd.DataFrame(user_item_rating_matrix)\n",
        "df.to_csv('output.csv', encoding = 'utf-8-sig') \n",
        "files.download('output.csv')\n",
        "'''"
      ],
      "metadata": {
        "colab": {
          "base_uri": "https://localhost:8080/",
          "height": 174
        },
        "id": "AjM85sWME63y",
        "outputId": "29cbc4bb-a841-4680-af43-3c269c9cdc6d"
      },
      "execution_count": 25,
      "outputs": [
        {
          "output_type": "stream",
          "name": "stdout",
          "text": [
            "user_item_rating_matrix:\n",
            " [[0 0 0 ... 0 0 0]\n",
            " [0 0 0 ... 0 0 0]\n",
            " [0 0 0 ... 0 0 0]\n",
            " ...\n",
            " [0 0 0 ... 0 0 0]\n",
            " [0 0 0 ... 0 0 0]\n",
            " [0 0 0 ... 0 0 0]]\n"
          ]
        },
        {
          "output_type": "execute_result",
          "data": {
            "text/plain": [
              "\"\\ndf = pd.DataFrame(user_item_rating_matrix)\\ndf.to_csv('output.csv', encoding = 'utf-8-sig') \\nfiles.download('output.csv')\\n\""
            ],
            "application/vnd.google.colaboratory.intrinsic+json": {
              "type": "string"
            }
          },
          "metadata": {},
          "execution_count": 25
        }
      ]
    },
    {
      "cell_type": "code",
      "source": [
        "class BPR:\n",
        "\n",
        "    def __init__(\n",
        "        self, \n",
        "        user_ids,\n",
        "        item_ids,\n",
        "        learning_rate = 0.01,\n",
        "        regularization_constant = 0.01,  \n",
        "        n_factor = 15, \n",
        "        n_iteration = 10, \n",
        "        n_batch = 100, \n",
        "        random_seed = 1234):\n",
        "\n",
        "        self.user_ids = user_ids\n",
        "        self.item_ids = item_ids\n",
        "        self.learning_rate = learning_rate\n",
        "        self.regularization_constant = regularization_constant\n",
        "        self.n_factor = n_factor\n",
        "        self.n_iteration = n_iteration\n",
        "        self.n_batch = n_batch\n",
        "        self.random_seed = random_seed\n",
        "\n",
        "        self.user_latent_factor_matrix = []\n",
        "        self.item_latent_factor_matrix = []\n",
        "    \n",
        "    def train(self, user_item_rating_matrix):\n",
        "\n",
        "        n_user = user_item_rating_matrix.shape[0]\n",
        "        n_item = user_item_rating_matrix.shape[1]\n",
        "\n",
        "        rstate = np.random.RandomState(self.random_seed)\n",
        "        self.user_latent_factor_matrix = rstate.normal(size = (n_user, self.n_factor))\n",
        "        self.item_latent_factor_matrix = rstate.normal(size = (n_item, self.n_factor))\n",
        "\n",
        "        \n",
        "        for _ in range(self.n_iteration):\n",
        "            sample_tuples = self._create_sample_tuples(user_item_rating_matrix, self.user_latent_factor_matrix, self.item_latent_factor_matrix, self.n_batch)\n",
        "            user_latent_matrix_tuples, item_latent_matrix_positive_item_tuples, item_latent_matrix_negative_item_tuples = sample_tuples\n",
        "            self._update_sample_tuples(user_latent_matrix_tuples, item_latent_matrix_positive_item_tuples, item_latent_matrix_negative_item_tuples, self.learning_rate, self.regularization_constant)\n",
        "\n",
        "        return self\n",
        "\n",
        "    def _create_sample_tuples(self, user_item_rating_matrix, user_latent_factor_matrix, item_latent_factor_matrix, n_batch):\n",
        "\n",
        "        n_user = user_item_rating_matrix.shape[0]\n",
        "        n_item = user_item_rating_matrix.shape[1]\n",
        "\n",
        "        sample_user_indexes = np.random.choice(n_user, size = n_batch, replace = False)\n",
        "        sample_positive_item_indexes = np.zeros(n_batch, dtype = np.int32)\n",
        "        sample_negative_item_indexes = np.zeros(n_batch, dtype = np.int32)\n",
        "\n",
        "        for index, sampled_user_index in enumerate(sample_user_indexes):\n",
        "\n",
        "            possible_positive_item_indexes = []\n",
        "            possible_negative_item_indexes = []\n",
        "\n",
        "            for x in range(n_item):\n",
        "                if (user_item_rating_matrix[sampled_user_index,x]) == 1:\n",
        "                    possible_positive_item_indexes.append(x)\n",
        "                else:\n",
        "                    possible_negative_item_indexes.append(x)\n",
        "\n",
        "            sample_positive_item_indexes[index] = np.random.choice(possible_positive_item_indexes)\n",
        "            sample_negative_item_indexes[index] = np.random.choice(possible_negative_item_indexes)\n",
        "\n",
        "        user_latent_matrix_tuples = user_latent_factor_matrix[sample_user_indexes]\n",
        "        item_latent_matrix_positive_item_tuples = item_latent_factor_matrix[sample_positive_item_indexes]\n",
        "        item_latent_matrix_negative_item_tuples = item_latent_factor_matrix[sample_negative_item_indexes]\n",
        "\n",
        "        return user_latent_matrix_tuples, item_latent_matrix_positive_item_tuples, item_latent_matrix_negative_item_tuples\n",
        "    \n",
        "    def _update_sample_tuples(self, user_latent_matrix_tuples, item_latent_matrix_positive_item_tuples, item_latent_matrix_negative_item_tuples, learning_rate, regularization_constant):\n",
        "\n",
        "        r_uij = np.sum(user_latent_matrix_tuples * (item_latent_matrix_positive_item_tuples - item_latent_matrix_negative_item_tuples), axis = 1)\n",
        "        sigmoid = np.exp(-r_uij) / (1.0 + np.exp(-r_uij))\n",
        "        sigmoid_tiled = np.tile(sigmoid, (self.n_factor, 1)).T\n",
        "\n",
        "        gradient_user = sigmoid_tiled * (item_latent_matrix_negative_item_tuples - item_latent_matrix_positive_item_tuples) + regularization_constant * user_latent_matrix_tuples\n",
        "        gradient_positive_item = sigmoid_tiled * -user_latent_matrix_tuples + regularization_constant * item_latent_matrix_positive_item_tuples\n",
        "        gradient_negative_item = sigmoid_tiled * user_latent_matrix_tuples + regularization_constant * item_latent_matrix_negative_item_tuples\n",
        "\n",
        "        user_latent_matrix_tuples -= learning_rate * gradient_user\n",
        "        item_latent_matrix_positive_item_tuples -= learning_rate * gradient_positive_item\n",
        "        item_latent_matrix_negative_item_tuples -= learning_rate * gradient_negative_item\n",
        "\n",
        "        return user_latent_matrix_tuples, item_latent_matrix_positive_item_tuples, item_latent_matrix_negative_item_tuples\n",
        "    \n",
        "    def predict(self):\n",
        "        return self.user_latent_factor_matrix.dot(self.item_latent_factor_matrix.T)\n",
        "    \n",
        "    def _predict_user(self, user_index):\n",
        "        return self.user_latent_factor_matrix[user_index].dot(self.item_latent_factor_matrix.T)\n",
        "    \n",
        "    def _recommend_user(self, user_item_rating_matrix, user_index, n_best_recommendation, item_ids):\n",
        "\n",
        "        scores = self._predict_user(user_index)\n",
        "\n",
        "        user_latent_factor_dictionary = {item_ids[i]: scores[i] for i in range(len(item_ids))}\n",
        "\n",
        "        print('len(user_latent_factor_dictionary):\\n', len(user_latent_factor_dictionary))\n",
        "\n",
        "        n_item = user_item_rating_matrix.shape[1]\n",
        "        positive_item_ids = []\n",
        "        for x in range(n_item):\n",
        "            if (user_item_rating_matrix[user_index,x]) == 1:\n",
        "                positive_item_ids.append(item_ids[x])\n",
        "\n",
        "        user_latent_factor_dictionary = {key: user_latent_factor_dictionary[key] for key in item_ids if key not in positive_item_ids}\n",
        "        user_latent_factor_dictionary = dict(sorted(user_latent_factor_dictionary.items(), key=lambda item: item[1], reverse=True))\n",
        "        best_recommendition_items = dict(islice(user_latent_factor_dictionary.items(), n_best_recommendation))\n",
        "\n",
        "        print('best_recommendition_items:\\n', best_recommendition_items)\n",
        "\n",
        "        return list(best_recommendition_items.keys())[0:n_best_recommendation]"
      ],
      "metadata": {
        "id": "4hE4FSKuH7Xj"
      },
      "execution_count": 26,
      "outputs": []
    },
    {
      "cell_type": "code",
      "source": [
        "bpr_params = {\n",
        "    'user_ids': user_ids,\n",
        "    'item_ids': item_ids,\n",
        "    'learning_rate': 0.1,\n",
        "    'regularization_constant': 0.01,\n",
        "    'n_iteration': 100,\n",
        "    'n_factor': 15,\n",
        "    'n_batch': 10\n",
        "}\n",
        "bpr = BPR(**bpr_params)\n",
        "bpr.train(user_item_rating_matrix)"
      ],
      "metadata": {
        "colab": {
          "base_uri": "https://localhost:8080/"
        },
        "id": "bNe77zG4R06t",
        "outputId": "a98fdbdd-75e4-40b7-fc2b-a31064f1468b"
      },
      "execution_count": 27,
      "outputs": [
        {
          "output_type": "execute_result",
          "data": {
            "text/plain": [
              "<__main__.BPR at 0x7f0ee6433f90>"
            ]
          },
          "metadata": {},
          "execution_count": 27
        }
      ]
    },
    {
      "cell_type": "code",
      "source": [
        "# print(bpr.predict())\n",
        "print(bpr._recommend_user(user_item_rating_matrix, 0, 3, bpr.item_ids))"
      ],
      "metadata": {
        "colab": {
          "base_uri": "https://localhost:8080/"
        },
        "id": "0PzF-q_Puhkg",
        "outputId": "4018edb3-3942-4e67-aeb2-0cd5de0e3a2a"
      },
      "execution_count": 11,
      "outputs": [
        {
          "output_type": "stream",
          "name": "stdout",
          "text": [
            "len(user_latent_factor_dictionary):\n",
            " 2997\n",
            "best_recommendition_items:\n",
            " {3001: 17.772410672646984, 2617: 15.093194414299836, 2260: 14.841441566852485}\n",
            "[3001, 2617, 2260]\n"
          ]
        }
      ]
    }
  ]
}