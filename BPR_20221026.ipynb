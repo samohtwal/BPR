{
  "nbformat": 4,
  "nbformat_minor": 0,
  "metadata": {
    "colab": {
      "provenance": [],
      "authorship_tag": "ABX9TyNeGFREBpA6ePMvy1yisIKD",
      "include_colab_link": true
    },
    "kernelspec": {
      "name": "python3",
      "display_name": "Python 3"
    },
    "language_info": {
      "name": "python"
    }
  },
  "cells": [
    {
      "cell_type": "markdown",
      "metadata": {
        "id": "view-in-github",
        "colab_type": "text"
      },
      "source": [
        "<a href=\"https://colab.research.google.com/github/samohtwal/BPR/blob/20221026/BPR_20221026.ipynb\" target=\"_parent\"><img src=\"https://colab.research.google.com/assets/colab-badge.svg\" alt=\"Open In Colab\"/></a>"
      ]
    },
    {
      "cell_type": "code",
      "execution_count": 1,
      "metadata": {
        "id": "d9BS6i_5_ugB"
      },
      "outputs": [],
      "source": [
        "import numpy as np\n",
        "import pandas as pd\n",
        "import torch\n",
        "import copy\n",
        "from google.colab import files\n",
        "\n",
        "from scipy.sparse import csr_matrix, dok_matrix"
      ]
    },
    {
      "cell_type": "code",
      "source": [
        "# load data\n",
        "raw_data_url = 'https://raw.githubusercontent.com/samohtwal/BPR/main/data/vali-20221026.csv'\n",
        "user_column_name = 'user_id'\n",
        "item_column_name = 'item_id'\n",
        "column_names = [user_column_name, item_column_name]\n",
        "raw_data = pd.read_csv(raw_data_url, names = column_names, header=0)\n",
        "\n",
        "print('raw_data dimension:', raw_data.shape)\n",
        "print('raw_data head: \\n', raw_data.head())\n",
        "print('raw_data.iloc[0][user_column_name]:', raw_data.iloc[0][user_column_name])\n",
        "print('raw_data.iloc[0][item_column_name]:', raw_data.iloc[0][item_column_name])\n",
        "print('raw_data.iloc[25054][user_column_name]:', raw_data.iloc[25054][user_column_name])\n",
        "print('raw_data.iloc[25054][item_column_name]:', raw_data.iloc[25054][item_column_name])"
      ],
      "metadata": {
        "colab": {
          "base_uri": "https://localhost:8080/"
        },
        "id": "ngHLZQQGA4_q",
        "outputId": "9c243fc8-125c-477d-8342-6299c6bf591d"
      },
      "execution_count": 13,
      "outputs": [
        {
          "output_type": "stream",
          "name": "stdout",
          "text": [
            "raw_data dimension: (25055, 2)\n",
            "raw_data head: \n",
            "    user_id  item_id\n",
            "0        6        0\n",
            "1        7        0\n",
            "2        9        0\n",
            "3       15        1\n",
            "4       28        2\n",
            "raw_data.iloc[0][user_column_name]: 6\n",
            "raw_data.iloc[0][item_column_name]: 0\n",
            "raw_data.iloc[25054][user_column_name]: 2148\n",
            "raw_data.iloc[25054][item_column_name]: 3057\n"
          ]
        }
      ]
    },
    {
      "cell_type": "code",
      "source": [
        "def create_user_item_rating_matrix(raw_data, user_column_name, item_column_name):\n",
        "\n",
        "    user_ids = sorted(raw_data[user_column_name].unique())\n",
        "    n_user = len(user_ids)\n",
        "\n",
        "    item_ids = sorted(raw_data[item_column_name].unique())\n",
        "    n_item = len(item_ids)\n",
        "\n",
        "    user_item_rating_matrix = np.zeros((n_user, n_item), dtype = np.int32)\n",
        "\n",
        "    for x in range(raw_data.shape[0]-1):\n",
        "        user_item_rating_matrix[user_ids.index(raw_data.iloc[x][user_column_name]), item_ids.index(raw_data.iloc[x][item_column_name])] = 1\n",
        "\n",
        "    return user_item_rating_matrix"
      ],
      "metadata": {
        "id": "_LnBv9VVCMTf"
      },
      "execution_count": 14,
      "outputs": []
    },
    {
      "cell_type": "code",
      "source": [
        "user_item_rating_matrix = create_user_item_rating_matrix(raw_data, user_column_name, item_column_name)\n",
        "print('user_item_rating_matrix:\\n', user_item_rating_matrix)\n",
        "\n",
        "'''\n",
        "df = pd.DataFrame(user_item_rating_matrix)\n",
        "df.to_csv('output.csv', encoding = 'utf-8-sig') \n",
        "files.download('output.csv')\n",
        "'''"
      ],
      "metadata": {
        "colab": {
          "base_uri": "https://localhost:8080/",
          "height": 156
        },
        "id": "AjM85sWME63y",
        "outputId": "2ec021a5-72c7-47f8-8caa-aea6e425d952"
      },
      "execution_count": 16,
      "outputs": [
        {
          "output_type": "stream",
          "name": "stdout",
          "text": [
            "user_item_rating_matrix:\n",
            " [[0 0 0 ... 0 0 0]\n",
            " [0 0 0 ... 0 0 0]\n",
            " [0 0 0 ... 0 0 0]\n",
            " ...\n",
            " [0 0 0 ... 0 0 0]\n",
            " [0 0 0 ... 0 0 0]\n",
            " [0 0 0 ... 0 0 0]]\n"
          ]
        },
        {
          "output_type": "display_data",
          "data": {
            "text/plain": [
              "<IPython.core.display.Javascript object>"
            ],
            "application/javascript": [
              "\n",
              "    async function download(id, filename, size) {\n",
              "      if (!google.colab.kernel.accessAllowed) {\n",
              "        return;\n",
              "      }\n",
              "      const div = document.createElement('div');\n",
              "      const label = document.createElement('label');\n",
              "      label.textContent = `Downloading \"${filename}\": `;\n",
              "      div.appendChild(label);\n",
              "      const progress = document.createElement('progress');\n",
              "      progress.max = size;\n",
              "      div.appendChild(progress);\n",
              "      document.body.appendChild(div);\n",
              "\n",
              "      const buffers = [];\n",
              "      let downloaded = 0;\n",
              "\n",
              "      const channel = await google.colab.kernel.comms.open(id);\n",
              "      // Send a message to notify the kernel that we're ready.\n",
              "      channel.send({})\n",
              "\n",
              "      for await (const message of channel.messages) {\n",
              "        // Send a message to notify the kernel that we're ready.\n",
              "        channel.send({})\n",
              "        if (message.buffers) {\n",
              "          for (const buffer of message.buffers) {\n",
              "            buffers.push(buffer);\n",
              "            downloaded += buffer.byteLength;\n",
              "            progress.value = downloaded;\n",
              "          }\n",
              "        }\n",
              "      }\n",
              "      const blob = new Blob(buffers, {type: 'application/binary'});\n",
              "      const a = document.createElement('a');\n",
              "      a.href = window.URL.createObjectURL(blob);\n",
              "      a.download = filename;\n",
              "      div.appendChild(a);\n",
              "      a.click();\n",
              "      div.remove();\n",
              "    }\n",
              "  "
            ]
          },
          "metadata": {}
        },
        {
          "output_type": "display_data",
          "data": {
            "text/plain": [
              "<IPython.core.display.Javascript object>"
            ],
            "application/javascript": [
              "download(\"download_b04cfa6e-791d-46b9-91c4-21df2a4ae6c5\", \"output.csv\", 23192905)"
            ]
          },
          "metadata": {}
        }
      ]
    }
  ]
}