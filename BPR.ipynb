{
  "cells": [
    {
      "cell_type": "markdown",
      "metadata": {
        "id": "view-in-github",
        "colab_type": "text"
      },
      "source": [
        "<a href=\"https://colab.research.google.com/github/samohtwal/BPR/blob/main/BPR.ipynb\" target=\"_parent\"><img src=\"https://colab.research.google.com/assets/colab-badge.svg\" alt=\"Open In Colab\"/></a>"
      ]
    },
    {
      "cell_type": "code",
      "source": [
        "import sys\n",
        "import numpy as np\n",
        "import pandas as pd\n",
        "from math import ceil\n",
        "from tqdm import trange\n",
        "from subprocess import call\n",
        "from itertools import islice\n",
        "from sklearn.metrics import roc_auc_score\n",
        "from sklearn.preprocessing import normalize\n",
        "from sklearn.neighbors import NearestNeighbors\n",
        "from scipy.sparse import csr_matrix, dok_matrix\n",
        "\n",
        "import copy"
      ],
      "metadata": {
        "id": "97Fo4_oYRtvb"
      },
      "execution_count": 3,
      "outputs": []
    },
    {
      "cell_type": "code",
      "source": [
        "# load data\n",
        "column_names = ['user_id', 'item_id']\n",
        "training_data_url = 'https://raw.githubusercontent.com/samohtwal/BPR/main/data/vali.csv'\n",
        "training_data_frame = pd.read_csv(training_data_url, names = column_names)\n",
        "\n",
        "print('training_data_frame dimension: \\n', training_data_frame.shape)\n",
        "print('training_data_frame head: \\n', training_data_frame.head())"
      ],
      "metadata": {
        "colab": {
          "base_uri": "https://localhost:8080/"
        },
        "id": "iE3TVZtCT6je",
        "outputId": "14d508aa-1ba4-4fad-f2bf-e71d909ec2f4"
      },
      "execution_count": 15,
      "outputs": [
        {
          "output_type": "stream",
          "name": "stdout",
          "text": [
            "training_data_frame dimension: \n",
            " (25056, 2)\n",
            "training_data_frame head: \n",
            "    user_id  item_id\n",
            "0  user_id  item_id\n",
            "1        6        0\n",
            "2        7        0\n",
            "3        9        0\n",
            "4       15        1\n"
          ]
        }
      ]
    },
    {
      "cell_type": "code",
      "source": [
        "def create_matrix(data_input, users_col, items_col, ratings_col):\n",
        "\n",
        "    data = copy.deepcopy(data_input)\n",
        "\n",
        "    data[ratings_col] = 1\n",
        "\n",
        "    data_user_num_items = (data\n",
        "                           .groupby('user_id')\n",
        "                           .agg(**{'num_items': ('item_id', 'count')})\n",
        "                           .reset_index())\n",
        "    data = data.merge(data_user_num_items, on='user_id', how='inner')\n",
        "    data = data[data['num_items'] > 1]\n",
        "\n",
        "    for col in (items_col, users_col, ratings_col):\n",
        "        data[col] = data[col].astype('category')\n",
        "\n",
        "    print('data: ' + data.to_string())\n",
        "\n",
        "    ratings = csr_matrix(\n",
        "                    (data[ratings_col],\n",
        "                        (data[users_col].cat.codes, data[items_col].cat.codes)\n",
        "                        ))\n",
        "    ratings.eliminate_zeros()\n",
        "\n",
        "    return ratings, data"
      ],
      "metadata": {
        "id": "bvB555xwUE9J"
      },
      "execution_count": null,
      "outputs": []
    },
    {
      "cell_type": "code",
      "source": [
        "items_col = 'item_id'\n",
        "users_col = 'user_id'\n",
        "ratings_col = 'rating'\n",
        "ratings, df_output = create_matrix(df, users_col, items_col, ratings_col)\n",
        "print(ratings[0].todense())\n",
        "print(ratings.indptr)\n",
        "print(ratings.indices)\n",
        "print(ratings.shape)\n",
        "\n",
        "# df_output\n",
        "# df2 = create_matrix(df, users_col, items_col, ratings_col, threshold)\n",
        "# df2\n",
        "# df = df[df[ratings_col] >= 2]\n",
        "# df[ratings_col] = 1\n",
        "# df"
      ],
      "metadata": {
        "colab": {
          "base_uri": "https://localhost:8080/"
        },
        "id": "9gGuQC4yUYIg",
        "outputId": "bbd2ce40-ce22-4729-a144-6a21fe67a61a"
      },
      "execution_count": null,
      "outputs": [
        {
          "output_type": "stream",
          "name": "stdout",
          "text": [
            "data:   user_id item_id rating  num_items\n",
            "0     196     242      1          2\n",
            "1     196     248      1          2\n",
            "[[1 1]]\n",
            "[0 2]\n",
            "[0 1]\n",
            "(1, 2)\n"
          ]
        }
      ]
    }
  ],
  "metadata": {
    "colab": {
      "collapsed_sections": [],
      "provenance": [],
      "include_colab_link": true
    },
    "kernelspec": {
      "display_name": "Python 3",
      "name": "python3"
    },
    "accelerator": "GPU"
  },
  "nbformat": 4,
  "nbformat_minor": 0
}