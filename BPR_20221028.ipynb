{
  "nbformat": 4,
  "nbformat_minor": 0,
  "metadata": {
    "colab": {
      "provenance": [],
      "collapsed_sections": [],
      "authorship_tag": "ABX9TyN0yHVIEWVoaNEY/oNV1iMr",
      "include_colab_link": true
    },
    "kernelspec": {
      "name": "python3",
      "display_name": "Python 3"
    },
    "language_info": {
      "name": "python"
    }
  },
  "cells": [
    {
      "cell_type": "markdown",
      "metadata": {
        "id": "view-in-github",
        "colab_type": "text"
      },
      "source": [
        "<a href=\"https://colab.research.google.com/github/samohtwal/BPR/blob/20221027/BPR_20221028.ipynb\" target=\"_parent\"><img src=\"https://colab.research.google.com/assets/colab-badge.svg\" alt=\"Open In Colab\"/></a>"
      ]
    },
    {
      "cell_type": "code",
      "execution_count": 45,
      "metadata": {
        "id": "FKoQOpY8f-BH"
      },
      "outputs": [],
      "source": [
        "import numpy as np\n",
        "import pandas as pd\n",
        "import torch\n",
        "import copy\n",
        "from itertools import islice\n",
        "from google.colab import files\n",
        "import os"
      ]
    },
    {
      "cell_type": "code",
      "source": [
        "global raw_data_user_column_name\n",
        "global raw_data_item_column_name\n",
        "\n",
        "global raw_data_group_by_user_id_dictionary_key\n",
        "global raw_data_group_by_item_id_dictionary_key\n",
        "\n",
        "global user_latent_factor_matrix_dictionary_key\n",
        "global item_latent_factor_matrix_dictionary_key\n",
        "\n",
        "global working_file_path\n",
        "\n",
        "global user_latent_factor_matrix_file_name\n",
        "global item_latent_factor_matrix_file_name\n",
        "\n",
        "global error_file_name\n",
        "\n",
        "raw_data_user_column_name = 'user_id'\n",
        "raw_data_item_column_name = 'item_id'\n",
        "\n",
        "raw_data_group_by_user_id_dictionary_key = 'raw_data_group_by_user_id'\n",
        "raw_data_group_by_item_id_dictionary_key = 'raw_data_group_by_item_id'\n",
        "\n",
        "user_latent_factor_matrix_dictionary_key = 'user_latent_factor_matrix'\n",
        "item_latent_factor_matrix_dictionary_key = 'item_latent_factor_matrix'\n",
        "\n",
        "working_file_path = '/content/working/'\n",
        "\n",
        "user_latent_factor_matrix_file_name = 'user_latent_factor_matrix.csv'\n",
        "item_latent_factor_matrix_file_name = 'item_latent_factor_matrix.csv'\n",
        "\n",
        "error_file_name = 'error.csv'"
      ],
      "metadata": {
        "id": "17RUQMyLgI_z"
      },
      "execution_count": 46,
      "outputs": []
    },
    {
      "cell_type": "code",
      "source": [
        "class DataHelper:\n",
        "\n",
        "    def load_raw_data_dictionary(self, raw_data_url):\n",
        "\n",
        "        column_names = [raw_data_user_column_name, raw_data_item_column_name]\n",
        "        raw_data = pd.read_csv(raw_data_url, names = column_names, header=0)\n",
        "\n",
        "        raw_data_group_by_user_id = raw_data.groupby(raw_data_user_column_name)[raw_data_item_column_name].apply(list).reset_index(name=raw_data_item_column_name).sort_values(by=[raw_data_user_column_name])\n",
        "        raw_data_group_by_item_id = raw_data.groupby(raw_data_item_column_name)[raw_data_user_column_name].apply(list).reset_index(name=raw_data_user_column_name).sort_values(by=[raw_data_item_column_name])\n",
        "\n",
        "        raw_data_dictionary = {\n",
        "            raw_data_group_by_user_id_dictionary_key: raw_data_group_by_user_id, \n",
        "            raw_data_group_by_item_id_dictionary_key: raw_data_group_by_item_id\n",
        "        }\n",
        "\n",
        "        return raw_data_dictionary\n",
        "\n",
        "    def save_latent_factor_matrix_dictionary(self, latent_factor_matrix_dictionary):\n",
        "\n",
        "        user_latent_factor_matrix = latent_factor_matrix_dictionary[user_latent_factor_matrix_dictionary_key]\n",
        "        item_latent_factor_matrix = latent_factor_matrix_dictionary[item_latent_factor_matrix_dictionary_key]\n",
        "        \n",
        "        if os.path.exists(working_file_path) == False:\n",
        "            os.mkdir(working_file_path)\n",
        "\n",
        "        pd.DataFrame(user_latent_factor_matrix).to_csv(working_file_path + user_latent_factor_matrix_file_name)\n",
        "        pd.DataFrame(item_latent_factor_matrix).to_csv(working_file_path + item_latent_factor_matrix_file_name)\n",
        "\n",
        "        return None\n",
        "\n",
        "    def load_latent_factor_matrix_dictionary(self):\n",
        "\n",
        "        user_latent_factor_matrix = pd.read_csv(working_file_path + user_latent_factor_matrix_file_name).values\n",
        "        item_latent_factor_matrix = pd.read_csv(working_file_path + item_latent_factor_matrix_file_name).values\n",
        "\n",
        "        latent_factor_matrix_dictionary = {\n",
        "            user_latent_factor_matrix_dictionary_key: user_latent_factor_matrix, \n",
        "            item_latent_factor_matrix_dictionary_key: item_latent_factor_matrix\n",
        "        }\n",
        "\n",
        "        return latent_factor_matrix_dictionary\n",
        "    \n",
        "    def save_error(self, errors):\n",
        "        if os.path.exists(working_file_path) == False:\n",
        "            os.mkdir(working_file_path)\n",
        "        pd.DataFrame(errors).to_csv(working_file_path + error_file_name)\n",
        "\n",
        "        return None"
      ],
      "metadata": {
        "id": "wjgEH2jmgLv1"
      },
      "execution_count": 95,
      "outputs": []
    },
    {
      "cell_type": "code",
      "source": [
        "errors = np.zeros(10, dtype = np.int64)\n",
        "DataHelper().save_error(errors)"
      ],
      "metadata": {
        "id": "_Bpj0-u2FEGR"
      },
      "execution_count": 48,
      "outputs": []
    },
    {
      "cell_type": "code",
      "source": [
        "class BayseianPersonalizedRankingModel:\n",
        "\n",
        "    def __init__(self, random_seed = 1234, n_latent_factor = 15, n_batch = 10, learning_rate = 0.01, regularization_constant = 0.01):\n",
        "        self.random_seed = random_seed\n",
        "        self.n_latent_factor = n_latent_factor\n",
        "        self.n_batch = n_batch\n",
        "        self.learning_rate = learning_rate\n",
        "        self.regularization_constant = regularization_constant\n",
        "\n",
        "    def fit(self, raw_data_dictionary):\n",
        "\n",
        "        raw_data_group_by_user_id = raw_data_dictionary[raw_data_group_by_user_id_dictionary_key]\n",
        "        raw_data_group_by_item_id = raw_data_dictionary[raw_data_group_by_item_id_dictionary_key]\n",
        "\n",
        "        n_user = len(raw_data_group_by_user_id[raw_data_user_column_name])\n",
        "        n_item = len(raw_data_group_by_item_id[raw_data_item_column_name])\n",
        "\n",
        "        rstate = np.random.RandomState(self.random_seed)\n",
        "\n",
        "        user_latent_factor_matrix = rstate.normal(size = (n_user, self.n_latent_factor))\n",
        "        item_latent_factor_matrix = rstate.normal(size = (n_item, self.n_latent_factor))\n",
        "\n",
        "        user_item_rating_matrix = self._create_user_item_rating_matrix(raw_data_group_by_user_id, raw_data_group_by_item_id)\n",
        "\n",
        "        user_latent_factor_matrixes = []\n",
        "        item_latent_factor_matrixes = []\n",
        "        root_mean_square_errors = []\n",
        "\n",
        "        is_converge = True\n",
        "        index = 0\n",
        "        while is_converge:\n",
        "\n",
        "            # self.learning_rate = self.learning_rate * np.exp(-5*index)\n",
        "            # self.learning_rate = self.learning_rate / (1 + 2 * index)\n",
        "            \n",
        "            sample_latent_factor_matrix_row_indexes = self._create_sample_latent_factor_matrix_row_indexes(raw_data_group_by_user_id, raw_data_group_by_item_id)\n",
        "            sample_user_id_indexes, sample_positive_item_id_indexes, sample_negative_item_id_indexes = sample_latent_factor_matrix_row_indexes\n",
        "            user_latent_factor_matrix, item_latent_factor_matrix = self._update_sample_latent_factor_matrix_rows(user_latent_factor_matrix, item_latent_factor_matrix, sample_user_id_indexes, sample_positive_item_id_indexes, sample_negative_item_id_indexes)\n",
        "            sum_of_square_error = np.sum((user_item_rating_matrix - self._predict(user_latent_factor_matrix, item_latent_factor_matrix))**2)\n",
        "            root_mean_square_error = np.sqrt((sum_of_square_error / n_user * n_item))\n",
        "\n",
        "            user_latent_factor_matrixes.append(user_latent_factor_matrix)\n",
        "            item_latent_factor_matrixes.append(item_latent_factor_matrix)\n",
        "            root_mean_square_errors.append(root_mean_square_error)\n",
        "            \n",
        "            print('debug - iteration:', index+1, end='\\n')\n",
        "            print('debug - self.learning_rate:', self.learning_rate, end='\\n')\n",
        "            print('debug - root_mean_square_error:', root_mean_square_error, end='\\n')\n",
        "            print('', end='\\n')\n",
        "            \n",
        "            # if (root_mean_square_errors[index] \n",
        "            #     > root_mean_square_errors[index-1] \n",
        "            #     > root_mean_square_errors[index-2]\n",
        "            #     > root_mean_square_errors[index-3]):\n",
        "            if index == 10:\n",
        "                is_converge = False\n",
        "\n",
        "            index = index + 1\n",
        "\n",
        "        latent_factor_matrix_dictionary = {\n",
        "            user_latent_factor_matrix_dictionary_key: user_latent_factor_matrixes[index-4], \n",
        "            item_latent_factor_matrix_dictionary_key: item_latent_factor_matrix[index-4]\n",
        "        }\n",
        "\n",
        "        return latent_factor_matrix_dictionary, root_mean_square_errors[0:index-4]\n",
        "\n",
        "    def _create_user_item_rating_matrix(self, raw_data_group_by_user_id, raw_data_group_by_item_id):\n",
        "\n",
        "        n_user = len(raw_data_group_by_user_id[raw_data_user_column_name])\n",
        "        n_item = len(raw_data_group_by_item_id[raw_data_item_column_name])\n",
        "\n",
        "        user_ids = raw_data_group_by_user_id[raw_data_user_column_name].tolist()\n",
        "        item_ids = raw_data_group_by_item_id[raw_data_item_column_name].tolist()\n",
        "\n",
        "        user_item_rating_matrix = np.zeros((n_user, n_item), dtype = np.int64)\n",
        "        for user_id_index, user_id in enumerate(user_ids):\n",
        "            item_id_indexes = np.where(np.isin(raw_data_group_by_user_id.iloc[user_id_index][raw_data_item_column_name],item_ids))[0]\n",
        "            for item_id_index in item_id_indexes:\n",
        "                user_item_rating_matrix[user_id_index, item_id_index] = 1\n",
        "\n",
        "        return user_item_rating_matrix\n",
        "\n",
        "    def _create_sample_latent_factor_matrix_row_indexes(self, raw_data_group_by_user_id, raw_data_group_by_item_id):\n",
        "\n",
        "        n_user = len(raw_data_group_by_user_id[raw_data_user_column_name])\n",
        "        n_item = len(raw_data_group_by_item_id[raw_data_item_column_name])\n",
        "\n",
        "        item_ids = raw_data_group_by_item_id[raw_data_item_column_name].tolist()\n",
        "\n",
        "        sample_user_id_indexes = np.random.choice(n_user, size = self.n_batch, replace = False)\n",
        "        sample_positive_item_id_indexes = np.zeros(self.n_batch, dtype = np.int64)\n",
        "        sample_negative_item_id_indexes = np.zeros(self.n_batch, dtype = np.int64)\n",
        "\n",
        "        for index, sampled_user_id_index in enumerate(sample_user_id_indexes):\n",
        "            possible_positive_item_ids = raw_data_group_by_user_id.iloc[sampled_user_id_index][raw_data_item_column_name]\n",
        "            possible_negative_item_ids = list(set(item_ids).difference(possible_positive_item_ids))\n",
        "            sample_positive_item_id = np.random.choice(possible_positive_item_ids)\n",
        "            sample_negative_item_id = np.random.choice(possible_negative_item_ids)\n",
        "            sample_positive_item_id_indexes[index] = item_ids.index(sample_positive_item_id)\n",
        "            sample_negative_item_id_indexes[index] = item_ids.index(sample_negative_item_id)\n",
        "\n",
        "        return sample_user_id_indexes, sample_positive_item_id_indexes, sample_negative_item_id_indexes\n",
        "\n",
        "    def _update_sample_latent_factor_matrix_rows(self, user_latent_factor_matrix, item_latent_factor_matrix, sample_user_id_indexes, sample_positive_item_id_indexes, sample_negative_item_id_indexes):\n",
        "\n",
        "        sample_user_latent_factor_matrix_tuple = user_latent_factor_matrix[sample_user_id_indexes]\n",
        "        sample_item_latent_factor_matrix_positive_item_tuple = item_latent_factor_matrix[sample_positive_item_id_indexes]\n",
        "        sample_item_latent_factor_matrix_negative_item_tuple = item_latent_factor_matrix[sample_negative_item_id_indexes]\n",
        "\n",
        "        r_uij = np.sum(sample_user_latent_factor_matrix_tuple * (sample_item_latent_factor_matrix_positive_item_tuple - sample_item_latent_factor_matrix_negative_item_tuple), axis = 1)\n",
        "        sigmoid = np.exp(-r_uij) / (1.0 + np.exp(-r_uij))\n",
        "        sigmoid_tiled = np.tile(sigmoid, (self.n_latent_factor, 1)).T\n",
        "\n",
        "        gradient_user = sigmoid_tiled * (sample_item_latent_factor_matrix_negative_item_tuple - sample_item_latent_factor_matrix_positive_item_tuple) + self.regularization_constant * sample_user_latent_factor_matrix_tuple\n",
        "        gradient_positive_item = sigmoid_tiled * -sample_user_latent_factor_matrix_tuple + self.regularization_constant * sample_item_latent_factor_matrix_positive_item_tuple\n",
        "        gradient_negative_item = sigmoid_tiled * sample_user_latent_factor_matrix_tuple + self.regularization_constant * sample_item_latent_factor_matrix_negative_item_tuple\n",
        "\n",
        "        user_latent_factor_matrix[sample_user_id_indexes] -= self.learning_rate * gradient_user\n",
        "        item_latent_factor_matrix[sample_positive_item_id_indexes] -= self.learning_rate * gradient_positive_item\n",
        "        item_latent_factor_matrix[sample_negative_item_id_indexes] -= self.learning_rate * gradient_negative_item\n",
        "\n",
        "        return user_latent_factor_matrix, item_latent_factor_matrix\n",
        "\n",
        "    def recommend_user(self, raw_data_dictionary, latent_factor_matrix_dictionary, user_id, n_best_recommendation):\n",
        "\n",
        "        raw_data_group_by_user_id = raw_data_dictionary[raw_data_group_by_user_id_dictionary_key]\n",
        "        raw_data_group_by_item_id = raw_data_dictionary[raw_data_group_by_item_id_dictionary_key]\n",
        "\n",
        "        user_latent_factor_matrix = latent_factor_matrix_dictionary[user_latent_factor_matrix_dictionary_key]\n",
        "        item_latent_factor_matrix = latent_factor_matrix_dictionary[item_latent_factor_matrix_dictionary_key]\n",
        "\n",
        "        user_ids = raw_data_group_by_user_id[raw_data_user_column_name].tolist()\n",
        "        item_ids = raw_data_group_by_item_id[raw_data_item_column_name].tolist()\n",
        "\n",
        "        user_index = user_ids.index(user_id)\n",
        "\n",
        "        scores = self._predict_user(user_latent_factor_matrix, item_latent_factor_matrix, user_index)\n",
        "        user_latent_factor_dictionary = {item_ids[i]: scores[i] for i in range(len(item_ids))}\n",
        "\n",
        "        positive_item_ids = raw_data_group_by_user_id.iloc[user_index][raw_data_item_column_name]\n",
        "\n",
        "        user_latent_factor_dictionary = {key: user_latent_factor_dictionary[key] for key in item_ids if key not in positive_item_ids}\n",
        "        user_latent_factor_dictionary = dict(sorted(user_latent_factor_dictionary.items(), key=lambda item: item[1], reverse=True))\n",
        "        best_recommendition_items = dict(islice(user_latent_factor_dictionary.items(), n_best_recommendation))\n",
        "\n",
        "        return list(best_recommendition_items.keys())[0:n_best_recommendation]\n",
        "\n",
        "    def _predict(self, user_latent_factor_matrix, item_latent_factor_matrix):\n",
        "        return user_latent_factor_matrix.dot(item_latent_factor_matrix.T)\n",
        "\n",
        "    def _predict_user(self, user_latent_factor_matrix, item_latent_factor_matrix, user_index):\n",
        "        return user_latent_factor_matrix[user_index].dot(item_latent_factor_matrix.T)"
      ],
      "metadata": {
        "id": "R_41q8ucjFoA"
      },
      "execution_count": 90,
      "outputs": []
    },
    {
      "cell_type": "code",
      "source": [
        "data_helper = DataHelper()\n",
        "bayseian_personalized_ranking_parameters = {\n",
        "    'random_seed' : 1234, \n",
        "    'n_latent_factor' : 15, \n",
        "    'n_batch' : 1000, \n",
        "    'learning_rate' : 0.1, \n",
        "    'regularization_constant' : 0.1\n",
        "}\n",
        "bayseian_personalized_ranking_model = BayseianPersonalizedRankingModel(**bayseian_personalized_ranking_parameters)"
      ],
      "metadata": {
        "id": "3H0kDLR186kO"
      },
      "execution_count": 96,
      "outputs": []
    },
    {
      "cell_type": "code",
      "source": [
        "train_raw_data_url = 'https://raw.githubusercontent.com/samohtwal/BPR/20221027/data/train-20221026.csv'\n",
        "train_raw_data_dictionary = data_helper.load_raw_data_dictionary(train_raw_data_url)"
      ],
      "metadata": {
        "id": "7X55kIdA17i-"
      },
      "execution_count": 92,
      "outputs": []
    },
    {
      "cell_type": "code",
      "source": [
        "latent_factor_matrix_dictionary, root_mean_square_errors = bayseian_personalized_ranking_model.fit(train_raw_data_dictionary)\n",
        "data_helper.save_latent_factor_matrix_dictionary(latent_factor_matrix_dictionary)\n",
        "data_helper.save_error(root_mean_square_errors)"
      ],
      "metadata": {
        "colab": {
          "base_uri": "https://localhost:8080/"
        },
        "id": "v0jDnnAc3-kx",
        "outputId": "d9f6944f-419d-4dfd-9f6c-bb1f67f4763a"
      },
      "execution_count": 93,
      "outputs": [
        {
          "output_type": "stream",
          "name": "stdout",
          "text": [
            "debug - iteration: 1\n",
            "debug - self.learning_rate: 0.1\n",
            "debug - root_mean_square_error: 11726.031585409168\n",
            "\n",
            "debug - iteration: 2\n",
            "debug - self.learning_rate: 0.1\n",
            "debug - root_mean_square_error: 11585.44411849621\n",
            "\n",
            "debug - iteration: 3\n",
            "debug - self.learning_rate: 0.1\n",
            "debug - root_mean_square_error: 11445.280154237184\n",
            "\n",
            "debug - iteration: 4\n",
            "debug - self.learning_rate: 0.1\n",
            "debug - root_mean_square_error: 11302.392858935575\n",
            "\n",
            "debug - iteration: 5\n",
            "debug - self.learning_rate: 0.1\n",
            "debug - root_mean_square_error: 11168.770589457832\n",
            "\n",
            "debug - iteration: 6\n",
            "debug - self.learning_rate: 0.1\n",
            "debug - root_mean_square_error: 11037.348792836037\n",
            "\n",
            "debug - iteration: 7\n",
            "debug - self.learning_rate: 0.1\n",
            "debug - root_mean_square_error: 10907.976248254232\n",
            "\n",
            "debug - iteration: 8\n",
            "debug - self.learning_rate: 0.1\n",
            "debug - root_mean_square_error: 10772.852717867458\n",
            "\n",
            "debug - iteration: 9\n",
            "debug - self.learning_rate: 0.1\n",
            "debug - root_mean_square_error: 10643.500038144632\n",
            "\n",
            "debug - iteration: 10\n",
            "debug - self.learning_rate: 0.1\n",
            "debug - root_mean_square_error: 10514.753633043983\n",
            "\n",
            "debug - iteration: 11\n",
            "debug - self.learning_rate: 0.1\n",
            "debug - root_mean_square_error: 10389.811097039159\n",
            "\n"
          ]
        }
      ]
    },
    {
      "cell_type": "code",
      "source": [
        "latent_factor_matrix_dictionary = data_helper.load_latent_factor_matrix_dictionary()\n",
        "\n",
        "print('debug - latent_factor_matrix_dictionary[user_latent_factor_matrix_dictionary_key]:', end='\\n')\n",
        "print(latent_factor_matrix_dictionary[user_latent_factor_matrix_dictionary_key], end='\\n')\n",
        "print('', end='\\n')\n",
        "\n",
        "print('debug - latent_factor_matrix_dictionary[item_latent_factor_matrix_dictionary_key]:', end='\\n')\n",
        "print(latent_factor_matrix_dictionary[item_latent_factor_matrix_dictionary_key], end='\\n')\n",
        "print('', end='\\n')"
      ],
      "metadata": {
        "colab": {
          "base_uri": "https://localhost:8080/"
        },
        "id": "m_GY9X2S9VQf",
        "outputId": "9a66be1d-3abb-4d5f-fc40-5606ddb74911"
      },
      "execution_count": 97,
      "outputs": [
        {
          "output_type": "stream",
          "name": "stdout",
          "text": [
            "debug - latent_factor_matrix_dictionary[user_latent_factor_matrix_dictionary_key]:\n",
            "[[ 0.00000000e+00  4.55123543e-01 -1.15544346e+00 ...  9.26987635e-01\n",
            "  -1.96049969e+00 -3.25796551e-01]\n",
            " [ 1.00000000e+00 -3.74057897e-02  4.43792625e-01 ... -1.80297014e+00\n",
            "  -1.94943276e-01  1.02303861e+00]\n",
            " [ 2.00000000e+00 -4.04080305e-01  4.29245739e-01 ...  3.16530820e-02\n",
            "  -1.86935695e+00  2.29883567e-01]\n",
            " ...\n",
            " [ 3.92100000e+03 -8.85253218e-01  3.11179977e-01 ...  9.69071351e-01\n",
            "  -1.09549331e+00  1.20046147e+00]\n",
            " [ 3.92200000e+03  6.38418786e-02  1.08987382e-01 ... -4.73397130e-01\n",
            "   1.16381845e-02  1.83625582e-01]\n",
            " [ 3.92300000e+03  1.18017866e+00  8.55391205e-01 ...  5.59962799e-01\n",
            "  -9.07106706e-01  1.85294749e+00]]\n",
            "\n",
            "debug - latent_factor_matrix_dictionary[item_latent_factor_matrix_dictionary_key]:\n",
            "[[ 0.00000000e+00 -1.03240406e+00]\n",
            " [ 1.00000000e+00 -1.55904903e+00]\n",
            " [ 2.00000000e+00 -9.71678842e-01]\n",
            " [ 3.00000000e+00  1.29189884e+00]\n",
            " [ 4.00000000e+00 -6.38108557e-02]\n",
            " [ 5.00000000e+00 -4.32954400e-01]\n",
            " [ 6.00000000e+00  4.89142579e-01]\n",
            " [ 7.00000000e+00  1.19318094e+00]\n",
            " [ 8.00000000e+00  2.01886096e+00]\n",
            " [ 9.00000000e+00  1.04653004e+00]\n",
            " [ 1.00000000e+01  1.71447339e+00]\n",
            " [ 1.10000000e+01  1.69457182e-01]\n",
            " [ 1.20000000e+01 -1.45994953e-03]\n",
            " [ 1.30000000e+01  1.11592314e+00]\n",
            " [ 1.40000000e+01 -1.02349853e-01]]\n",
            "\n"
          ]
        }
      ]
    },
    {
      "cell_type": "code",
      "source": [
        "vali_raw_data_url = 'https://raw.githubusercontent.com/samohtwal/BPR/20221027/data/vali-20221026.csv'\n",
        "vali_raw_data_dictionary = data_helper.load_raw_data_dictionary(vali_raw_data_url)\n",
        "\n",
        "recommendation_item_ids = bayseian_personalized_ranking_model.recommend_user(vali_raw_data_dictionary, latent_factor_matrix_dictionary, 0, 5)\n",
        "print('debug - recommendation_item_ids:', end='\\n')\n",
        "print(recommendation_item_ids, end='\\n')\n",
        "print('', end='\\n')"
      ],
      "metadata": {
        "colab": {
          "base_uri": "https://localhost:8080/",
          "height": 363
        },
        "id": "m0d2z1BsDeOD",
        "outputId": "eba8fd6a-5a9d-4366-c5f7-8f95ec620279"
      },
      "execution_count": 98,
      "outputs": [
        {
          "output_type": "error",
          "ename": "ValueError",
          "evalue": "ignored",
          "traceback": [
            "\u001b[0;31m---------------------------------------------------------------------------\u001b[0m",
            "\u001b[0;31mValueError\u001b[0m                                Traceback (most recent call last)",
            "\u001b[0;32m<ipython-input-98-e7c3b50ca82b>\u001b[0m in \u001b[0;36m<module>\u001b[0;34m\u001b[0m\n\u001b[1;32m      2\u001b[0m \u001b[0mvali_raw_data_dictionary\u001b[0m \u001b[0;34m=\u001b[0m \u001b[0mdata_helper\u001b[0m\u001b[0;34m.\u001b[0m\u001b[0mload_raw_data_dictionary\u001b[0m\u001b[0;34m(\u001b[0m\u001b[0mvali_raw_data_url\u001b[0m\u001b[0;34m)\u001b[0m\u001b[0;34m\u001b[0m\u001b[0;34m\u001b[0m\u001b[0m\n\u001b[1;32m      3\u001b[0m \u001b[0;34m\u001b[0m\u001b[0m\n\u001b[0;32m----> 4\u001b[0;31m \u001b[0mrecommendation_item_ids\u001b[0m \u001b[0;34m=\u001b[0m \u001b[0mbayseian_personalized_ranking_model\u001b[0m\u001b[0;34m.\u001b[0m\u001b[0mrecommend_user\u001b[0m\u001b[0;34m(\u001b[0m\u001b[0mvali_raw_data_dictionary\u001b[0m\u001b[0;34m,\u001b[0m \u001b[0mlatent_factor_matrix_dictionary\u001b[0m\u001b[0;34m,\u001b[0m \u001b[0;36m0\u001b[0m\u001b[0;34m,\u001b[0m \u001b[0;36m5\u001b[0m\u001b[0;34m)\u001b[0m\u001b[0;34m\u001b[0m\u001b[0;34m\u001b[0m\u001b[0m\n\u001b[0m\u001b[1;32m      5\u001b[0m \u001b[0mprint\u001b[0m\u001b[0;34m(\u001b[0m\u001b[0;34m'debug - recommendation_item_ids:'\u001b[0m\u001b[0;34m,\u001b[0m \u001b[0mend\u001b[0m\u001b[0;34m=\u001b[0m\u001b[0;34m'\\n'\u001b[0m\u001b[0;34m)\u001b[0m\u001b[0;34m\u001b[0m\u001b[0;34m\u001b[0m\u001b[0m\n\u001b[1;32m      6\u001b[0m \u001b[0mprint\u001b[0m\u001b[0;34m(\u001b[0m\u001b[0mrecommendation_item_ids\u001b[0m\u001b[0;34m,\u001b[0m \u001b[0mend\u001b[0m\u001b[0;34m=\u001b[0m\u001b[0;34m'\\n'\u001b[0m\u001b[0;34m)\u001b[0m\u001b[0;34m\u001b[0m\u001b[0;34m\u001b[0m\u001b[0m\n",
            "\u001b[0;32m<ipython-input-90-4d2b174edc1c>\u001b[0m in \u001b[0;36mrecommend_user\u001b[0;34m(self, raw_data_dictionary, latent_factor_matrix_dictionary, user_id, n_best_recommendation)\u001b[0m\n\u001b[1;32m    135\u001b[0m         \u001b[0muser_index\u001b[0m \u001b[0;34m=\u001b[0m \u001b[0muser_ids\u001b[0m\u001b[0;34m.\u001b[0m\u001b[0mindex\u001b[0m\u001b[0;34m(\u001b[0m\u001b[0muser_id\u001b[0m\u001b[0;34m)\u001b[0m\u001b[0;34m\u001b[0m\u001b[0;34m\u001b[0m\u001b[0m\n\u001b[1;32m    136\u001b[0m \u001b[0;34m\u001b[0m\u001b[0m\n\u001b[0;32m--> 137\u001b[0;31m         \u001b[0mscores\u001b[0m \u001b[0;34m=\u001b[0m \u001b[0mself\u001b[0m\u001b[0;34m.\u001b[0m\u001b[0m_predict_user\u001b[0m\u001b[0;34m(\u001b[0m\u001b[0muser_latent_factor_matrix\u001b[0m\u001b[0;34m,\u001b[0m \u001b[0mitem_latent_factor_matrix\u001b[0m\u001b[0;34m,\u001b[0m \u001b[0muser_index\u001b[0m\u001b[0;34m)\u001b[0m\u001b[0;34m\u001b[0m\u001b[0;34m\u001b[0m\u001b[0m\n\u001b[0m\u001b[1;32m    138\u001b[0m         \u001b[0muser_latent_factor_dictionary\u001b[0m \u001b[0;34m=\u001b[0m \u001b[0;34m{\u001b[0m\u001b[0mitem_ids\u001b[0m\u001b[0;34m[\u001b[0m\u001b[0mi\u001b[0m\u001b[0;34m]\u001b[0m\u001b[0;34m:\u001b[0m \u001b[0mscores\u001b[0m\u001b[0;34m[\u001b[0m\u001b[0mi\u001b[0m\u001b[0;34m]\u001b[0m \u001b[0;32mfor\u001b[0m \u001b[0mi\u001b[0m \u001b[0;32min\u001b[0m \u001b[0mrange\u001b[0m\u001b[0;34m(\u001b[0m\u001b[0mlen\u001b[0m\u001b[0;34m(\u001b[0m\u001b[0mitem_ids\u001b[0m\u001b[0;34m)\u001b[0m\u001b[0;34m)\u001b[0m\u001b[0;34m}\u001b[0m\u001b[0;34m\u001b[0m\u001b[0;34m\u001b[0m\u001b[0m\n\u001b[1;32m    139\u001b[0m \u001b[0;34m\u001b[0m\u001b[0m\n",
            "\u001b[0;32m<ipython-input-90-4d2b174edc1c>\u001b[0m in \u001b[0;36m_predict_user\u001b[0;34m(self, user_latent_factor_matrix, item_latent_factor_matrix, user_index)\u001b[0m\n\u001b[1;32m    150\u001b[0m \u001b[0;34m\u001b[0m\u001b[0m\n\u001b[1;32m    151\u001b[0m     \u001b[0;32mdef\u001b[0m \u001b[0m_predict_user\u001b[0m\u001b[0;34m(\u001b[0m\u001b[0mself\u001b[0m\u001b[0;34m,\u001b[0m \u001b[0muser_latent_factor_matrix\u001b[0m\u001b[0;34m,\u001b[0m \u001b[0mitem_latent_factor_matrix\u001b[0m\u001b[0;34m,\u001b[0m \u001b[0muser_index\u001b[0m\u001b[0;34m)\u001b[0m\u001b[0;34m:\u001b[0m\u001b[0;34m\u001b[0m\u001b[0;34m\u001b[0m\u001b[0m\n\u001b[0;32m--> 152\u001b[0;31m         \u001b[0;32mreturn\u001b[0m \u001b[0muser_latent_factor_matrix\u001b[0m\u001b[0;34m[\u001b[0m\u001b[0muser_index\u001b[0m\u001b[0;34m]\u001b[0m\u001b[0;34m.\u001b[0m\u001b[0mdot\u001b[0m\u001b[0;34m(\u001b[0m\u001b[0mitem_latent_factor_matrix\u001b[0m\u001b[0;34m.\u001b[0m\u001b[0mT\u001b[0m\u001b[0;34m)\u001b[0m\u001b[0;34m\u001b[0m\u001b[0;34m\u001b[0m\u001b[0m\n\u001b[0m",
            "\u001b[0;31mValueError\u001b[0m: shapes (16,) and (2,15) not aligned: 16 (dim 0) != 2 (dim 0)"
          ]
        }
      ]
    }
  ]
}